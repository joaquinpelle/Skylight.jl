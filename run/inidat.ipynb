{
 "cells": [
  {
   "cell_type": "code",
   "execution_count": 1,
   "metadata": {},
   "outputs": [],
   "source": [
    "import numpy as np\n",
    "\n",
    "from structures import Data_Filenames, CTW_Parameters, Initial_Data, Meta_Data\n",
    "from geometry import CTW_Metric\n",
    "\n",
    "π = np.pi"
   ]
  },
  {
   "cell_type": "code",
   "execution_count": 2,
   "metadata": {},
   "outputs": [],
   "source": [
    "b0 = 1.0"
   ]
  },
  {
   "cell_type": "code",
   "execution_count": 3,
   "metadata": {},
   "outputs": [],
   "source": [
    "#Detector distance in geometrized units\n",
    "\n",
    "#The metric should be approximately flat at this distance\n",
    "#But also consider that the bigger it gets, the longer the ray tracing takes (not too much if the metric is already flat)\n",
    "#Besides, a small margin is needed for the rays which end on the other side\n",
    "\n",
    "d = 500*b0"
   ]
  },
  {
   "cell_type": "code",
   "execution_count": 4,
   "metadata": {},
   "outputs": [],
   "source": [
    "sx = 4*b0   #Horizontal side of the detector  (these should be a bit bigger than the diameter of the disk)\n",
    "sy = sx         #Vertical side of the detector (the optimal value depends on the inclination)\n",
    "\n",
    "Nx = 600        #Resolution in horizontal detector coordinate (400-600 are decent resolutions)       \n",
    "Ny = Nx         #Resolution in vertical detector coordinate"
   ]
  },
  {
   "cell_type": "code",
   "execution_count": 5,
   "metadata": {},
   "outputs": [
    {
     "name": "stdout",
     "output_type": "stream",
     "text": [
      "Filenames are safe.\n",
      "Meta/meta_screen_i5deg_Q00.yml\n",
      "Filenames are safe.\n",
      "Meta/meta_screen_i5deg_Q030.yml\n",
      "Filenames are safe.\n",
      "Meta/meta_screen_i5deg_Q060.yml\n",
      "Filenames are safe.\n",
      "Meta/meta_screen_i5deg_Q090.yml\n",
      "Filenames are safe.\n",
      "Meta/meta_screen_i5deg_Q099.yml\n",
      "Filenames are safe.\n",
      "Meta/meta_screen_i30deg_Q00.yml\n",
      "Filenames are safe.\n",
      "Meta/meta_screen_i30deg_Q030.yml\n",
      "Filenames are safe.\n",
      "Meta/meta_screen_i30deg_Q060.yml\n",
      "Filenames are safe.\n",
      "Meta/meta_screen_i30deg_Q090.yml\n",
      "Filenames are safe.\n",
      "Meta/meta_screen_i30deg_Q099.yml\n",
      "Filenames are safe.\n",
      "Meta/meta_screen_i60deg_Q00.yml\n",
      "Filenames are safe.\n",
      "Meta/meta_screen_i60deg_Q030.yml\n",
      "Filenames are safe.\n",
      "Meta/meta_screen_i60deg_Q060.yml\n",
      "Filenames are safe.\n",
      "Meta/meta_screen_i60deg_Q090.yml\n",
      "Filenames are safe.\n",
      "Meta/meta_screen_i60deg_Q099.yml\n",
      "Filenames are safe.\n",
      "Meta/meta_screen_i85deg_Q00.yml\n",
      "Filenames are safe.\n",
      "Meta/meta_screen_i85deg_Q030.yml\n",
      "Filenames are safe.\n",
      "Meta/meta_screen_i85deg_Q060.yml\n",
      "Filenames are safe.\n",
      "Meta/meta_screen_i85deg_Q090.yml\n",
      "Filenames are safe.\n",
      "Meta/meta_screen_i85deg_Q099.yml\n"
     ]
    }
   ],
   "source": [
    "\n",
    "for ideg in [5,30,60,85]:\n",
    "    for Q in [0.,0.3,0.6,0.9,0.99]:\n",
    "\n",
    "        filename = \"screen_i{}deg_Q0{}\".format(ideg,int(100*Q))  #General name for the files to write. Don't use preexisting filenames. Be descriptive.\n",
    "        #filename = \"screen_i85deg_Q0{}\".format(int(100*Q))  #General name for the files to write. Don't use preexisting filenames. Be descriptive.\n",
    "        \n",
    "        #We set the file paths\n",
    "        filenames = Data_Filenames(filename,overwrite_meta=False,overwrite_data=False)\n",
    "        filenames.warnings()\n",
    "\n",
    "        par = CTW_Parameters(b0,Q)\n",
    "\n",
    "        ξ = ideg*π/180    #Detector inclination\n",
    "\n",
    "        #We build the initial data and save it\n",
    "        inidata = Initial_Data(d,ξ,sx,sy,Nx,Ny,par)\n",
    "\n",
    "        inidata.save(filenames)\n",
    "\n",
    "        #Build the metadata\n",
    "        metadata = Meta_Data(filenames,inidata)\n",
    "\n",
    "        metadata.set_user(\"Joaquin\")\n",
    "\n",
    "        #Any comments that you consider useful. Leave an empty string if you don't want to comment anything\n",
    "        metadata.set_comments(\"\")\n",
    "\n",
    "        #you can add new properties with\n",
    "        #metadata.set_property(\"key\",value)\n",
    "\n",
    "        #or redefine existing ones with\n",
    "        #metadata.redefine_property(\"key\",value)\n",
    "\n",
    "        #Save the metadata\n",
    "        metadata.save()\n",
    "        print(metadata.meta_file)"
   ]
  },
  {
   "cell_type": "code",
   "execution_count": null,
   "metadata": {},
   "outputs": [],
   "source": []
  }
 ],
 "metadata": {
  "kernelspec": {
   "display_name": "Python 3 (ipykernel)",
   "language": "python",
   "name": "python3"
  },
  "language_info": {
   "codemirror_mode": {
    "name": "ipython",
    "version": 3
   },
   "file_extension": ".py",
   "mimetype": "text/x-python",
   "name": "python",
   "nbconvert_exporter": "python",
   "pygments_lexer": "ipython3",
   "version": "3.10.5"
  },
  "vscode": {
   "interpreter": {
    "hash": "c2f632984e1b10d09c20d7273a28222cf97d808ba29267300eb6a5550c4ca1e6"
   }
  }
 },
 "nbformat": 4,
 "nbformat_minor": 4
}
