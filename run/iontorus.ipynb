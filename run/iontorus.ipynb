{
 "cells": [
  {
   "cell_type": "code",
   "execution_count": 1,
   "metadata": {},
   "outputs": [
    {
     "name": "stderr",
     "output_type": "stream",
     "text": [
      "\u001b[32m\u001b[1m  Activating\u001b[22m\u001b[39m project at `~/repos/Skylight.jl/run/Dev`\n"
     ]
    }
   ],
   "source": [
    "using Pkg\n",
    "Pkg.activate(\"Dev\")\n",
    "using Revise\n",
    "using Skylight\n",
    "using CairoMakie"
   ]
  },
  {
   "cell_type": "code",
   "execution_count": 52,
   "metadata": {},
   "outputs": [
    {
     "name": "stdout",
     "output_type": "stream",
     "text": [
      "Equations integration stats:\n",
      "Wall clock time: 0.277612042 seconds\n",
      "Memory allocated: 81.741 MiB\n"
     ]
    },
    {
     "data": {
      "text/plain": [
       "10×400 Matrix{Float64}:\n",
       " -975.737        -983.841        …  -983.897        -975.634\n",
       "  550.0           550.0              550.0           550.0\n",
       "    2.23295         2.24158            1.16981         1.16712\n",
       "   -2.47664        -2.54642            2.64466         2.58338\n",
       "   -1.00164        -1.00164           -1.00164        -1.00164\n",
       "    0.926036        0.93349      …     0.933728        0.926077\n",
       "   -0.000339642    -0.000366639        0.000459427     0.000452213\n",
       "   -0.000738556    -0.000672416        0.000486322     0.000543706\n",
       "    0.0             0.0                0.0             0.0\n",
       "    0.0             0.0                0.0             0.0"
      ]
     },
     "metadata": {},
     "output_type": "display_data"
    }
   ],
   "source": [
    "distance = 500\n",
    "N = 20\n",
    "spacetime = KerrSpacetimeBoyerLindquistCoordinates(M=1.0,a=0.6)\n",
    "camera = PinholeCamera(position = [0.0, distance, π/2-π/20, 0.0],\n",
    "                        horizontal_aperture_in_degrees = rad2deg(315/distance),\n",
    "                        vertical_aperture_in_degrees = rad2deg(315/distance),\n",
    "                        horizontal_number_of_pixels = N,\n",
    "                        vertical_number_of_pixels = N)\n",
    "model = IonTorus()\n",
    "torus_specific_angular_momentum!(model, spacetime)\n",
    "cusp_and_center_radius!(model, spacetime)\n",
    "torus_potentials_at_center_and_surface!(model, spacetime)\n",
    "configurations = NonVacuumOTEConfigurations(spacetime=spacetime,\n",
    "                                   camera = camera,\n",
    "                                   radiative_model = model,\n",
    "                                   unit_mass_in_solar_masses=1.0,\n",
    "                                   observation_energies = [1.0])\n",
    "initial_data = initialize(configurations)\n",
    "cb, cbp = callback_setup(configurations; rhorizon_bound=2e-3) #... or, define your own cb and cbp\n",
    "run = integrate(initial_data, configurations, cb, cbp; method=VCABM(), reltol=1e-5, abstol=1e-5)\n",
    "output_data = run.output_data"
   ]
  },
  {
   "cell_type": "code",
   "execution_count": 32,
   "metadata": {},
   "outputs": [
    {
     "data": {
      "text/plain": [
       "4-element Vector{Float64}:\n",
       " 0.0\n",
       " 5.842026702136471\n",
       " 1.5707963267948966\n",
       " 0.0"
      ]
     },
     "metadata": {},
     "output_type": "display_data"
    }
   ],
   "source": [
    "# position = camera.position\n",
    "position = [0.0, model.rcenter, π/2, 0.0]\n",
    "# Skylight.torus_normalized_potential(position, spacetime, model)\n",
    "# Skylight.energy_density(position, spacetime, model)"
   ]
  },
  {
   "cell_type": "code",
   "execution_count": 62,
   "metadata": {},
   "outputs": [
    {
     "data": {
      "text/plain": [
       "973-element Vector{Bool}:\n",
       " 0\n",
       " 1\n",
       " 1\n",
       " 1\n",
       " 1\n",
       " 1\n",
       " 1\n",
       " 1\n",
       " 1\n",
       " 1\n",
       " ⋮\n",
       " 0\n",
       " 0\n",
       " 0\n",
       " 0\n",
       " 0\n",
       " 0\n",
       " 0\n",
       " 0\n",
       " 0"
      ]
     },
     "metadata": {},
     "output_type": "display_data"
    }
   ],
   "source": [
    "g = zeros(4,4)\n",
    "v = zeros(4)\n",
    "function is_inside_torus(r, spacetime, model, g)\n",
    "    coords_top = coordinates_topology(spacetime)\n",
    "    position = Skylight.equatorial_position(r, coords_top)\n",
    "    metric!(g, position, spacetime)\n",
    "    return Skylight.torus_normalized_potential(g, model) > 0.0\n",
    "end\n",
    "function is_rest_frame_timelike(r, spacetime, model, g, v)\n",
    "    coords_top = coordinates_topology(spacetime)\n",
    "    position = Skylight.equatorial_position(r, coords_top)\n",
    "    metric!(g, position, spacetime)\n",
    "    rest_frame_four_velocity!(v, position, g, spacetime, model, coords_top)\n",
    "    return Skylight.is_timelike(v, g)\n",
    "end\n",
    "\n",
    "radii = model.rcusp:0.1:100.0\n",
    "\n",
    "tim = map(r -> is_rest_frame_timelike(r, spacetime, model, g, v), radii)\n",
    "pot = map(r -> is_inside_torus(r,spacetime,model,g), radii)\n",
    "# rest_frame_energy = -scalar_product(vμ, momentum, metric)\n",
    "# ε .= observation_energies*rest_frame_energy\n"
   ]
  },
  {
   "cell_type": "code",
   "execution_count": 56,
   "metadata": {},
   "outputs": [
    {
     "data": {
      "text/plain": [
       "true"
      ]
     },
     "metadata": {},
     "output_type": "display_data"
    }
   ],
   "source": [
    "all(tim)"
   ]
  },
  {
   "cell_type": "code",
   "execution_count": 41,
   "metadata": {},
   "outputs": [
    {
     "data": {
      "text/plain": [
       "true"
      ]
     },
     "metadata": {},
     "output_type": "display_data"
    }
   ],
   "source": [
    "Skylight.is_timelike(v,g)"
   ]
  },
  {
   "cell_type": "code",
   "execution_count": 43,
   "metadata": {},
   "outputs": [],
   "source": [
    "k = [-1.0,0.0,0.0,0.0]\n",
    "\n",
    "Skylight.normalize_timelike!(k, g)"
   ]
  },
  {
   "cell_type": "code",
   "execution_count": 46,
   "metadata": {},
   "outputs": [
    {
     "data": {
      "text/plain": [
       "1.1420768862604598"
      ]
     },
     "metadata": {},
     "output_type": "display_data"
    }
   ],
   "source": [
    "Skylight.scalar_product(v,k,g)"
   ]
  },
  {
   "cell_type": "code",
   "execution_count": null,
   "metadata": {},
   "outputs": [],
   "source": [
    "xs, ys = axes_ranges(camera) \n",
    "zs = grid_view(output_data, configurations; energy_index = 1)\n",
    "\n",
    "fig = Figure(font = \"CMU Serif\") #resolution=(600,400)\n",
    "ax = Axis(fig[1,1], xlabel=L\"\\alpha\", ylabel=L\"\\beta\", ylabelsize = 26, xlabelsize = 26) \n",
    "hmap = heatmap!(xs, ys, zs; colormap=:gist_heat, interpolate=true)\n",
    "Colorbar(fig[:, end+1], hmap, label=L\"I\", labelsize=26, width = 15, ticksize = 18, tickalign = 1)\n",
    "colsize!(fig.layout, 1, Aspect(1, 1.0))\n",
    "colgap!(fig.layout, 7)\n",
    "CairoMakie.save(\"plot.png\", fig)"
   ]
  }
 ],
 "metadata": {
  "kernelspec": {
   "display_name": "Julia 1.9.2",
   "language": "julia",
   "name": "julia-1.9"
  },
  "language_info": {
   "file_extension": ".jl",
   "mimetype": "application/julia",
   "name": "julia",
   "version": "1.9.2"
  },
  "orig_nbformat": 4
 },
 "nbformat": 4,
 "nbformat_minor": 2
}
