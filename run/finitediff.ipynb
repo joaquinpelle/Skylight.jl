{
 "cells": [
  {
   "cell_type": "code",
   "execution_count": 83,
   "metadata": {},
   "outputs": [
    {
     "name": "stderr",
     "output_type": "stream",
     "text": [
      "\u001b[32m\u001b[1m  Activating\u001b[22m\u001b[39m project at `~/repos/Skylight.jl`\n"
     ]
    },
    {
     "name": "stderr",
     "output_type": "stream",
     "text": [
      "\u001b[32m\u001b[1m   Resolving\u001b[22m\u001b[39m package versions...\n"
     ]
    },
    {
     "name": "stderr",
     "output_type": "stream",
     "text": [
      "\u001b[32m\u001b[1m  No Changes\u001b[22m\u001b[39m to `~/repos/Skylight.jl/Project.toml`\n"
     ]
    },
    {
     "name": "stderr",
     "output_type": "stream",
     "text": [
      "\u001b[32m\u001b[1m  No Changes\u001b[22m\u001b[39m to `~/repos/Skylight.jl/Manifest.toml`\n"
     ]
    },
    {
     "name": "stderr",
     "output_type": "stream",
     "text": [
      "\u001b[32m\u001b[1m   Resolving\u001b[22m\u001b[39m package versions...\n"
     ]
    },
    {
     "name": "stderr",
     "output_type": "stream",
     "text": [
      "\u001b[32m\u001b[1m   Installed\u001b[22m\u001b[39m BenchmarkTools ─ v1.3.2\n"
     ]
    },
    {
     "name": "stderr",
     "output_type": "stream",
     "text": [
      "\u001b[32m\u001b[1m   Installed\u001b[22m\u001b[39m JSON ─────────── v0.21.4\n",
      "\u001b[32m\u001b[1m   Installed\u001b[22m\u001b[39m Parsers ──────── v2.7.1\n"
     ]
    },
    {
     "name": "stderr",
     "output_type": "stream",
     "text": [
      "\u001b[32m\u001b[1m    Updating\u001b[22m\u001b[39m `~/repos/Skylight.jl/Project.toml`\n",
      " \u001b[90m [6e4b80f9] \u001b[39m\u001b[92m+ BenchmarkTools v1.3.2\u001b[39m\n",
      "\u001b[32m\u001b[1m    Updating\u001b[22m\u001b[39m `~/repos/Skylight.jl/Manifest.toml`\n"
     ]
    },
    {
     "name": "stderr",
     "output_type": "stream",
     "text": [
      " \u001b[90m [6e4b80f9] \u001b[39m\u001b[92m+ BenchmarkTools v1.3.2\u001b[39m\n",
      " \u001b[90m [682c06a0] \u001b[39m\u001b[92m+ JSON v0.21.4\u001b[39m\n",
      " \u001b[90m [69de0a69] \u001b[39m\u001b[92m+ Parsers v2.7.1\u001b[39m\n",
      " \u001b[90m [9abbd945] \u001b[39m\u001b[92m+ Profile\u001b[39m\n"
     ]
    },
    {
     "name": "stderr",
     "output_type": "stream",
     "text": [
      "\u001b[32m\u001b[1mPrecompiling\u001b[22m\u001b[39m project...\n"
     ]
    },
    {
     "name": "stderr",
     "output_type": "stream",
     "text": [
      "\u001b[32m  ✓ \u001b[39m\u001b[90mParsers\u001b[39m\n"
     ]
    },
    {
     "name": "stderr",
     "output_type": "stream",
     "text": [
      "\u001b[32m  ✓ \u001b[39m\u001b[90mJSON\u001b[39m\n"
     ]
    },
    {
     "name": "stderr",
     "output_type": "stream",
     "text": [
      "\u001b[32m  ✓ \u001b[39mBenchmarkTools\n"
     ]
    },
    {
     "name": "stderr",
     "output_type": "stream",
     "text": [
      "\u001b[33m  ✓ \u001b[39mSkylight\n",
      "  4 dependencies successfully precompiled in 47 seconds. 163 already precompiled.\n",
      "  \u001b[33m1\u001b[39m dependency precompiled but a different version is currently loaded. Restart julia to access the new version\n"
     ]
    }
   ],
   "source": [
    "using Pkg\n",
    "Pkg.activate(\"Dev\")\n",
    "Pkg.add(\"FiniteDiff\")\n",
    "using FiniteDiff\n",
    "using BenchmarkTools"
   ]
  },
  {
   "cell_type": "code",
   "execution_count": 115,
   "metadata": {},
   "outputs": [
    {
     "data": {
      "text/plain": [
       "benchmark_finitediff (generic function with 2 methods)"
      ]
     },
     "metadata": {},
     "output_type": "display_data"
    }
   ],
   "source": [
    "using Skylight\n",
    "\n",
    "function finite_difference_metric_jacobian(position, spacetime::AbstractSpacetime, cache)\n",
    "    return FiniteDiff.finite_difference_jacobian(Skylight.metric_field(spacetime), position, cache)\n",
    "end\n",
    "\n",
    "function finite_difference_metric_jacobian!(∂g, position, spacetime::AbstractSpacetime, cache)\n",
    "    FiniteDiff.finite_difference_jacobian!(∂g, Skylight.metric_field(spacetime), position, cache)\n",
    "    return nothing\n",
    "end\n",
    "\n",
    "function jacobian_finitediff(position, spacetime)\n",
    "    ∂g = zeros(16,4)\n",
    "    g = zeros(4,4)\n",
    "    cache = FiniteDiff.JacobianCache(zero(position), zero(g), zero(g), Val(:central))\n",
    "    finite_difference_metric_jacobian!(∂g, position, spacetime, cache)\n",
    "\n",
    "    ∂gad = zeros(4,4,4)\n",
    "    Skylight.metric_jacobian!(∂gad, position, spacetime, g)\n",
    "    return reshape(∂g,4,4,4), ∂gad\n",
    "end \n",
    "function benchmark_finitediff(position, spacetime)\n",
    "    ∂g = zeros(16,4)\n",
    "    g = zeros(4,4)\n",
    "    cache = FiniteDiff.JacobianCache(zero(position), zero(g), zero(g), Val(:central))\n",
    "    @btime finite_difference_metric_jacobian!($∂g, $position, $spacetime, $cache)\n",
    "\n",
    "    ∂gad = zeros(4,4,4)\n",
    "    cache = Skylight.AutoDiffChristoffelCache(spacetime)\n",
    "\n",
    "    spacetime_metric_field = cache.spacetime_metric_field\n",
    "    cfg = cache.cfg\n",
    "\n",
    "    @btime Skylight.metric_jacobian!($∂gad, $position, $spacetime_metric_field, $g, $cfg)\n",
    "    return nothing \n",
    "end "
   ]
  },
  {
   "cell_type": "code",
   "execution_count": 118,
   "metadata": {},
   "outputs": [
    {
     "name": "stdout",
     "output_type": "stream",
     "text": [
      "true\n"
     ]
    },
    {
     "name": "stdout",
     "output_type": "stream",
     "text": [
      "  507.876 ns (4 allocations: 160 bytes)\n"
     ]
    },
    {
     "name": "stdout",
     "output_type": "stream",
     "text": [
      "  282.547 ns (4 allocations: 176 bytes)\n"
     ]
    }
   ],
   "source": [
    "position = [0.0, 15.0, 1.0, 0.0]\n",
    "spacetime = KerrSpacetimeBoyerLindquistCoordinates(1.0, 0.5)\n",
    "\n",
    "∂g, ∂gad = jacobian_finitediff(position, spacetime)\n",
    "println(all(.≈(∂g,∂gad, rtol=5e-8)))\n",
    "benchmark_finitediff(position, spacetime)"
   ]
  },
  {
   "cell_type": "code",
   "execution_count": 112,
   "metadata": {},
   "outputs": [
    {
     "data": {
      "text/plain": [
       "6.0554544523933395e-6"
      ]
     },
     "metadata": {},
     "output_type": "display_data"
    }
   ],
   "source": [
    "FiniteDiff.default_relstep(Val(:central), Float64)"
   ]
  }
 ],
 "metadata": {
  "kernelspec": {
   "display_name": "Julia 1.8.5",
   "language": "julia",
   "name": "julia-1.8"
  },
  "language_info": {
   "file_extension": ".jl",
   "mimetype": "application/julia",
   "name": "julia",
   "version": "1.8.5"
  },
  "orig_nbformat": 4
 },
 "nbformat": 4,
 "nbformat_minor": 2
}
