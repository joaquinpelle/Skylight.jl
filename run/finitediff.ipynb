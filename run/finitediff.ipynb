{
 "cells": [
  {
   "cell_type": "code",
   "execution_count": 1,
   "metadata": {},
   "outputs": [
    {
     "name": "stderr",
     "output_type": "stream",
     "text": [
      "\u001b[32m\u001b[1m  Activating\u001b[22m\u001b[39m project at `~/repos/Skylight.jl/run/Dev`\n"
     ]
    },
    {
     "name": "stderr",
     "output_type": "stream",
     "text": [
      "\u001b[32m\u001b[1m    Updating\u001b[22m\u001b[39m registry at `~/.julia/registries/General.toml`\n"
     ]
    },
    {
     "name": "stderr",
     "output_type": "stream",
     "text": [
      "\u001b[32m\u001b[1m   Resolving\u001b[22m\u001b[39m package versions...\n"
     ]
    },
    {
     "name": "stderr",
     "output_type": "stream",
     "text": [
      "\u001b[32m\u001b[1m    Updating\u001b[22m\u001b[39m `~/repos/Skylight.jl/run/Dev/Project.toml`\n",
      "  \u001b[90m[6a86dc24] \u001b[39m\u001b[92m+ FiniteDiff v2.21.1\u001b[39m\n",
      "\u001b[32m\u001b[1m    Updating\u001b[22m\u001b[39m `~/repos/Skylight.jl/run/Dev/Manifest.toml`\n",
      " "
     ]
    },
    {
     "name": "stderr",
     "output_type": "stream",
     "text": [
      " \u001b[90m[6a86dc24] \u001b[39m\u001b[93m↑ FiniteDiff v2.20.0 ⇒ v2.21.1\u001b[39m\n"
     ]
    },
    {
     "name": "stderr",
     "output_type": "stream",
     "text": [
      "\u001b[32m\u001b[1mPrecompiling\u001b[22m\u001b[39m "
     ]
    },
    {
     "name": "stderr",
     "output_type": "stream",
     "text": [
      "project...\n"
     ]
    },
    {
     "name": "stderr",
     "output_type": "stream",
     "text": [
      "\u001b[32m  ✓ \u001b[39mFiniteDiff\n"
     ]
    },
    {
     "name": "stderr",
     "output_type": "stream",
     "text": [
      "\u001b[32m  ✓ \u001b[39m\u001b[90mFiniteDiff → FiniteDiffStaticArraysExt\u001b[39m\n"
     ]
    },
    {
     "name": "stderr",
     "output_type": "stream",
     "text": [
      "\u001b[32m  ✓ \u001b[39m\u001b[90mNLSolversBase\u001b[39m\n"
     ]
    },
    {
     "name": "stderr",
     "output_type": "stream",
     "text": [
      "\u001b[32m  ✓ \u001b[39m\u001b[90mFiniteDiff → FiniteDiffBandedMatricesExt\u001b[39m\n"
     ]
    },
    {
     "name": "stderr",
     "output_type": "stream",
     "text": [
      "\u001b[32m  ✓ \u001b[39m\u001b[90mSparseDiffTools\u001b[39m\n"
     ]
    },
    {
     "name": "stderr",
     "output_type": "stream",
     "text": [
      "\u001b[32m  ✓ \u001b[39m\u001b[90mLineSearches\u001b[39m\n"
     ]
    },
    {
     "name": "stderr",
     "output_type": "stream",
     "text": [
      "\u001b[32m  ✓ \u001b[39m\u001b[90mNLsolve\u001b[39m\n"
     ]
    },
    {
     "name": "stderr",
     "output_type": "stream",
     "text": [
      "\u001b[32m  ✓ \u001b[39m\u001b[90mSciMLNLSolve\u001b[39m\n"
     ]
    },
    {
     "name": "stderr",
     "output_type": "stream",
     "text": [
      "\u001b[32m  ✓ \u001b[39m\u001b[90mDiffEqCallbacks\u001b[39m\n"
     ]
    },
    {
     "name": "stderr",
     "output_type": "stream",
     "text": [
      "\u001b[32m  ✓ \u001b[39m\u001b[90mOptim\u001b[39m\n"
     ]
    },
    {
     "name": "stderr",
     "output_type": "stream",
     "text": [
      "\u001b[32m  ✓ \u001b[39m\u001b[90mSimpleNonlinearSolve\u001b[39m\n"
     ]
    },
    {
     "name": "stderr",
     "output_type": "stream",
     "text": [
      "\u001b[32m  ✓ \u001b[39m\u001b[90mDataInterpolations → DataInterpolationsOptimExt\u001b[39m\n"
     ]
    },
    {
     "name": "stderr",
     "output_type": "stream",
     "text": [
      "\u001b[32m  ✓ \u001b[39m\u001b[90mBoundaryValueDiffEq\u001b[39m\n"
     ]
    },
    {
     "name": "stderr",
     "output_type": "stream",
     "text": [
      "\u001b[32m  ✓ \u001b[39m\u001b[90mSteadyStateDiffEq\u001b[39m\n"
     ]
    },
    {
     "name": "stderr",
     "output_type": "stream",
     "text": [
      "\u001b[32m  ✓ \u001b[39m\u001b[90mDiffEqNoiseProcess\u001b[39m\n"
     ]
    },
    {
     "name": "stderr",
     "output_type": "stream",
     "text": [
      "\u001b[32m  ✓ \u001b[39m\u001b[90mNonlinearSolve\u001b[39m\n"
     ]
    },
    {
     "name": "stderr",
     "output_type": "stream",
     "text": [
      "\u001b[32m  ✓ \u001b[39m\u001b[90mOrdinaryDiffEq\u001b[39m\n"
     ]
    },
    {
     "name": "stderr",
     "output_type": "stream",
     "text": [
      "\u001b[32m  ✓ \u001b[39m\u001b[90mDelayDiffEq\u001b[39m\n"
     ]
    },
    {
     "name": "stderr",
     "output_type": "stream",
     "text": [
      "\u001b[32m  ✓ \u001b[39m\u001b[90mStochasticDiffEq\u001b[39m\n"
     ]
    },
    {
     "name": "stderr",
     "output_type": "stream",
     "text": [
      "\u001b[32m  ✓ \u001b[39m\u001b[90mDifferentialEquations\u001b[39m\n"
     ]
    },
    {
     "name": "stderr",
     "output_type": "stream",
     "text": [
      "\u001b[32m  ✓ \u001b[39mSkylight\n"
     ]
    },
    {
     "name": "stderr",
     "output_type": "stream",
     "text": [
      "\u001b[32m  ✓ \u001b[39mDev\n",
      "  22 dependencies successfully precompiled in 403 seconds. 344 already precompiled.\n"
     ]
    }
   ],
   "source": [
    "using Pkg\n",
    "Pkg.activate(\"Dev\")\n",
    "Pkg.add(\"FiniteDiff\")\n",
    "using FiniteDiff\n",
    "using BenchmarkTools"
   ]
  },
  {
   "cell_type": "code",
   "execution_count": 70,
   "metadata": {},
   "outputs": [
    {
     "data": {
      "text/plain": [
       "benchmark_finitediff (generic function with 1 method)"
      ]
     },
     "metadata": {},
     "output_type": "display_data"
    }
   ],
   "source": [
    "using Skylight\n",
    "\n",
    "function finite_difference_metric_jacobian(position, spacetime::AbstractSpacetime, cache)\n",
    "    return FiniteDiff.finite_difference_jacobian(Skylight.metric_field(spacetime), position, cache)\n",
    "end\n",
    "\n",
    "function finite_difference_metric_jacobian!(∂g, position, spacetime::AbstractSpacetime, cache)\n",
    "    FiniteDiff.finite_difference_jacobian!(∂g, Skylight.metric_field(spacetime), position, cache)\n",
    "    return nothing\n",
    "end\n",
    "\n",
    "function jacobian_finitediff(position, spacetime)\n",
    "    ∂g = zeros(16,4)\n",
    "    g = zeros(4,4)\n",
    "    cache = FiniteDiff.JacobianCache(zero(position), zero(g), zero(g), Val(:central))\n",
    "    finite_difference_metric_jacobian!(∂g, position, spacetime, cache)\n",
    "\n",
    "    ∂gad = zeros(4,4,4)\n",
    "    Skylight.metric_jacobian!(∂gad, position, spacetime, g)\n",
    "    return reshape(∂g,4,4,4), ∂gad\n",
    "end \n",
    "function full_benchmark_finitediff(position, spacetime)\n",
    "    ∂g = zeros(16,4)\n",
    "    g = zeros(4,4)\n",
    "    cache = FiniteDiff.JacobianCache(zero(position), zero(g), zero(g), Val(:central))\n",
    "    bfd = @benchmark finite_difference_metric_jacobian!($∂g, $position, $spacetime, $cache)\n",
    "\n",
    "    ∂gad = zeros(4,4,4)\n",
    "    cache = Skylight.AutoDiffChristoffelCache(spacetime)\n",
    "\n",
    "    spacetime_metric_field = cache.spacetime_metric_field\n",
    "    cfg = cache.cfg\n",
    "\n",
    "    bad = @benchmark Skylight.metric_jacobian!($∂gad, $position, $spacetime_metric_field, $g, $cfg)\n",
    "    return bfd, bad \n",
    "end \n",
    "function benchmark_finitediff(position, spacetime)\n",
    "    ∂g = zeros(16,4)\n",
    "    g = zeros(4,4)\n",
    "    cache = FiniteDiff.JacobianCache(zero(position), zero(g), zero(g), Val(:central))\n",
    "    println(\"Finite differences\")\n",
    "    @btime finite_difference_metric_jacobian!($∂g, $position, $spacetime, $cache)\n",
    "\n",
    "    ∂gad = zeros(4,4,4)\n",
    "    cache = Skylight.AutoDiffChristoffelCache(spacetime)\n",
    "\n",
    "    spacetime_metric_field = cache.spacetime_metric_field\n",
    "    cfg = cache.cfg\n",
    "\n",
    "    println(\"Automatic differentiation\")\n",
    "    @btime Skylight.metric_jacobian!($∂gad, $position, $spacetime_metric_field, $g, $cfg)\n",
    "    return nothing \n",
    "end "
   ]
  },
  {
   "cell_type": "code",
   "execution_count": null,
   "metadata": {},
   "outputs": [
    {
     "data": {
      "text/plain": [
       "6.0554544523933395e-6"
      ]
     },
     "metadata": {},
     "output_type": "display_data"
    }
   ],
   "source": [
    "FiniteDiff.default_relstep(Val(:central), Float64)"
   ]
  },
  {
   "cell_type": "code",
   "execution_count": 78,
   "metadata": {},
   "outputs": [
    {
     "name": "stdout",
     "output_type": "stream",
     "text": [
      "true\n",
      "Finite differences\n"
     ]
    },
    {
     "name": "stdout",
     "output_type": "stream",
     "text": [
      "  435.535 ns (4 allocations: 160 bytes)\n",
      "Automatic differentiation\n"
     ]
    },
    {
     "name": "stdout",
     "output_type": "stream",
     "text": [
      "  299.587 ns (4 allocations: 176 bytes)\n"
     ]
    }
   ],
   "source": [
    "position = [0.0, 5.0, 0.25π, 0.0]\n",
    "spacetime = KerrSpacetimeBoyerLindquistCoordinates(1.0, 0.9)\n",
    "\n",
    "∂g, ∂gad = jacobian_finitediff(position, spacetime)\n",
    "println(all(.≈(∂g,∂gad, rtol=1e-9)))\n",
    "benchmark_finitediff(position, spacetime)"
   ]
  },
  {
   "cell_type": "code",
   "execution_count": 79,
   "metadata": {},
   "outputs": [
    {
     "name": "stdout",
     "output_type": "stream",
     "text": [
      "true\n",
      "Finite differences\n"
     ]
    },
    {
     "name": "stdout",
     "output_type": "stream",
     "text": [
      "  35.492 μs (4 allocations: 160 bytes)\n",
      "Automatic differentiation\n"
     ]
    },
    {
     "name": "stdout",
     "output_type": "stream",
     "text": [
      "  29.393 μs (4 allocations: 176 bytes)\n"
     ]
    }
   ],
   "source": [
    "position = [0.0, 15.0, 0.0, 5.0]\n",
    "spacetime = SuperposedPNSpacetime(m=(0.5,0.5), chi=(0.9,0.9), b=20.0)\n",
    "\n",
    "∂g, ∂gad = jacobian_finitediff(position, spacetime)\n",
    "println(all(.≈(∂g,∂gad, atol=3e-10)))\n",
    "benchmark_finitediff(position, spacetime)"
   ]
  },
  {
   "cell_type": "code",
   "execution_count": 55,
   "metadata": {},
   "outputs": [
    {
     "name": "stdout",
     "output_type": "stream",
     "text": [
      "true\n"
     ]
    },
    {
     "name": "stdout",
     "output_type": "stream",
     "text": [
      "  37.015 μs (4 allocations: 160 bytes)\n"
     ]
    },
    {
     "name": "stdout",
     "output_type": "stream",
     "text": [
      "  29.544 μs (4 allocations: 176 bytes)\n"
     ]
    }
   ],
   "source": [
    "position = [0.0, 1000.0, 0.0, 5.0]\n",
    "spacetime = SuperposedPNSpacetime(m=(0.5,0.5), chi=(0.6,0.6), b=20.0)\n",
    "\n",
    "∂g, ∂gad = jacobian_finitediff(position, spacetime)\n",
    "println(all(.≈(∂g,∂gad, atol=3e-10)))\n",
    "benchmark_finitediff(position, spacetime)"
   ]
  }
 ],
 "metadata": {
  "kernelspec": {
   "display_name": "Julia 1.9.0",
   "language": "julia",
   "name": "julia-1.9"
  },
  "language_info": {
   "file_extension": ".jl",
   "mimetype": "application/julia",
   "name": "julia",
   "version": "1.9.0"
  },
  "orig_nbformat": 4
 },
 "nbformat": 4,
 "nbformat_minor": 2
}
