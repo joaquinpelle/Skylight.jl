{
 "cells": [
  {
   "cell_type": "code",
   "execution_count": 1,
   "metadata": {},
   "outputs": [
    {
     "name": "stderr",
     "output_type": "stream",
     "text": [
      "\u001b[32m\u001b[1m  Activating\u001b[22m\u001b[39m project at `~/repos/Skylight.jl/run/Dev`\n"
     ]
    }
   ],
   "source": [
    "using Pkg\n",
    "Pkg.activate(\"Dev\")\n",
    "using Skylight\n",
    "using BenchmarkTools"
   ]
  },
  {
   "cell_type": "code",
   "execution_count": 4,
   "metadata": {},
   "outputs": [
    {
     "name": "stdout",
     "output_type": "stream",
     "text": [
      "Equations integration stats:\n",
      "Wall clock time: 70.159112087 seconds\n",
      "Memory allocated: 16.125 GiB\n"
     ]
    },
    {
     "data": {
      "text/plain": [
       "8×40000 Matrix{Float64}:\n",
       " -1070.9         -1070.93        …  -1071.9         -1071.87\n",
       "   551.163         551.163            551.163         551.163\n",
       "     1.39638         1.39419            1.78948         1.78678\n",
       "    -3.33518        -3.33584            3.34309         3.34271\n",
       "    -1.00163        -1.00163           -1.00163        -1.00163\n",
       "     0.997572        0.997576    …      0.997576        0.997571\n",
       "    -3.70075e-5     -3.70045e-5         3.66757e-5      3.66806e-5\n",
       "    -3.87576e-5     -3.83978e-5         3.90538e-5      3.94031e-5"
      ]
     },
     "metadata": {},
     "output_type": "display_data"
    }
   ],
   "source": [
    "spacetime = KerrSpacetimeBoyerLindquistCoordinates(M=1.0,a=0.9)\n",
    "camera = ImagePlane(distance = 500.0,\n",
    "                         observer_inclination_in_degrees = 90,\n",
    "                         horizontal_side = 23.0,\n",
    "                         vertical_side = 23.0,\n",
    "                         horizontal_number_of_pixels = 200,\n",
    "                         vertical_number_of_pixels = 200)\n",
    "model = NovikovThorneDisk(inner_radius=6.0, outer_radius=18.0)\n",
    "configurations = VacuumOTEConfigurations(spacetime=spacetime,\n",
    "                                   camera = camera,\n",
    "                                   radiative_model = model,\n",
    "                                   unit_mass_in_solar_masses=1.0)\n",
    "initial_data = initialize(configurations)\n",
    "cb, cbp = callback_setup(configurations; rhorizon_bound=2e-1) #... or, define your own cb and cbp\n",
    "run = integrate(initial_data, configurations, cb, cbp; method=VCABM(), reltol=1e-13, abstol=1e-21)\n",
    "output_data = run.output_data"
   ]
  },
  {
   "cell_type": "code",
   "execution_count": 5,
   "metadata": {},
   "outputs": [],
   "source": [
    "#N=200 chunks 2\n",
    "@time observed_bolometric_intensities(initial_data, output_data, configurations, camera)\n",
    "@time observed_bolometric_intensities_multithreading(initial_data, output_data, configurations, camera; chunks_per_thread=2)\n",
    "nothing"
   ]
  },
  {
   "cell_type": "code",
   "execution_count": null,
   "metadata": {},
   "outputs": [],
   "source": [
    "#N=200 chunks 1\n",
    "@time observed_bolometric_intensities(initial_data, output_data, configurations, camera)\n",
    "@time observed_bolometric_intensities_multithreading(initial_data, output_data, configurations, camera; chunks_per_thread=1)\n",
    "nothing"
   ]
  },
  {
   "cell_type": "code",
   "execution_count": null,
   "metadata": {},
   "outputs": [],
   "source": [
    "#N=200 chunks 3\n",
    "@time observed_bolometric_intensities(initial_data, output_data, configurations, camera)\n",
    "@time observed_bolometric_intensities_multithreading(initial_data, output_data, configurations, camera; chunks_per_thread=3)\n",
    "nothing"
   ]
  },
  {
   "cell_type": "code",
   "execution_count": null,
   "metadata": {},
   "outputs": [
    {
     "name": "stdout",
     "output_type": "stream",
     "text": [
      "  316.410 μs (905 allocations: 123.83 KiB)\n"
     ]
    },
    {
     "name": "stdout",
     "output_type": "stream",
     "text": [
      "  7.151 μs (50 allocations: 45.25 KiB)\n"
     ]
    }
   ],
   "source": [
    "#N=50 chunks 2\n",
    "@btime observed_bolometric_intensities($initial_data, $output_data, $configurations, $camera)\n",
    "@btime observed_bolometric_intensities_multithreading($initial_data, $output_data, $configurations, $camera; chunks_per_thread=2)\n",
    "nothing"
   ]
  },
  {
   "cell_type": "code",
   "execution_count": 16,
   "metadata": {},
   "outputs": [
    {
     "name": "stdout",
     "output_type": "stream",
     "text": [
      "  316.190 μs (905 allocations: 123.83 KiB)\n"
     ]
    },
    {
     "name": "stdout",
     "output_type": "stream",
     "text": [
      "  12.428 μs (70 allocations: 47.91 KiB)\n"
     ]
    }
   ],
   "source": [
    "#N=50 chunks 3\n",
    "@btime observed_bolometric_intensities($initial_data, $output_data, $configurations, $camera)\n",
    "@btime observed_bolometric_intensities_multithreading($initial_data, $output_data, $configurations, $camera; chunks_per_thread=3)\n",
    "nothing"
   ]
  },
  {
   "cell_type": "code",
   "execution_count": 15,
   "metadata": {},
   "outputs": [
    {
     "name": "stdout",
     "output_type": "stream",
     "text": [
      "  316.049 μs (905 allocations: 123.83 KiB)\n"
     ]
    },
    {
     "name": "stdout",
     "output_type": "stream",
     "text": [
      "  5.442 μs (25 allocations: 41.92 KiB)\n"
     ]
    }
   ],
   "source": [
    "#N=50 chunks 1\n",
    "@btime observed_bolometric_intensities($initial_data, $output_data, $configurations, $camera)\n",
    "@btime observed_bolometric_intensities_multithreading($initial_data, $output_data, $configurations, $camera; chunks_per_thread=1)\n",
    "nothing"
   ]
  },
  {
   "cell_type": "code",
   "execution_count": null,
   "metadata": {},
   "outputs": [
    {
     "name": "stdout",
     "output_type": "stream",
     "text": [
      "  12.362 μs (41 allocations: 5.55 KiB)\n"
     ]
    },
    {
     "name": "stdout",
     "output_type": "stream",
     "text": [
      "  4.822 μs (48 allocations: 7.78 KiB)\n"
     ]
    }
   ],
   "source": [
    "#N=10 chunks 2\n",
    "@btime observed_bolometric_intensities($initial_data, $output_data, $configurations, $camera)\n",
    "@btime observed_bolometric_intensities_multithreading($initial_data, $output_data, $configurations, $camera; chunks_per_thread=2)\n",
    "nothing"
   ]
  },
  {
   "cell_type": "code",
   "execution_count": null,
   "metadata": {},
   "outputs": [
    {
     "name": "stdout",
     "output_type": "stream",
     "text": [
      "  975.571 ns (9 allocations: 1.05 KiB)\n"
     ]
    },
    {
     "name": "stdout",
     "output_type": "stream",
     "text": [
      "  2.845 μs (48 allocations: 6.28 KiB)\n"
     ]
    }
   ],
   "source": [
    "#N=3\n",
    "@btime observed_bolometric_intensities($initial_data, $output_data, $configurations, $camera)\n",
    "@btime observed_bolometric_intensities_multithreading($initial_data, $output_data, $configurations, $camera; chunks_per_thread=2)\n",
    "nothing"
   ]
  }
 ],
 "metadata": {
  "kernelspec": {
   "display_name": "Julia 1.9.0",
   "language": "julia",
   "name": "julia-1.9"
  },
  "language_info": {
   "file_extension": ".jl",
   "mimetype": "application/julia",
   "name": "julia",
   "version": "1.9.0"
  },
  "orig_nbformat": 4
 },
 "nbformat": 4,
 "nbformat_minor": 2
}
