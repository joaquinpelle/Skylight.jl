{
 "cells": [
  {
   "cell_type": "code",
   "execution_count": 1,
   "metadata": {},
   "outputs": [
    {
     "name": "stderr",
     "output_type": "stream",
     "text": [
      "\u001b[32m\u001b[1m  Activating\u001b[22m\u001b[39m project at `~/repos/Skylight.jl/run/Dev`\n"
     ]
    }
   ],
   "source": [
    "using Pkg\n",
    "Pkg.activate(\"Dev\")\n",
    "using Skylight\n",
    "using BenchmarkTools"
   ]
  },
  {
   "cell_type": "code",
   "execution_count": 100,
   "metadata": {},
   "outputs": [
    {
     "name": "stdout",
     "output_type": "stream",
     "text": [
      "Equations integration stats:\n",
      "Wall clock time: 0.344285111 seconds\n",
      "Memory allocated: 78.439 MiB\n"
     ]
    },
    {
     "data": {
      "text/plain": [
       "8×2500 Matrix{Float64}:\n",
       " -205.347       -205.396       -205.449       …  -207.116       -207.063\n",
       "   12.7801        12.5039        12.2301           12.3734        12.6369\n",
       "    1.5708         1.5708         1.5708            1.5708         1.5708\n",
       "   -0.790152      -0.769363      -0.747727          2.38835        2.36846\n",
       "   -1.17974       -1.18459       -1.18967          -1.18694       -1.1822\n",
       "   -0.207056      -0.211034      -0.215492    …    -0.107213      -0.104482\n",
       "    0.0827336      0.0846515      0.0866524         0.0871341      0.0851671\n",
       "   -0.00520887    -0.00522038    -0.00522468        0.00531839     0.00531333"
      ]
     },
     "metadata": {},
     "output_type": "display_data"
    }
   ],
   "source": [
    "spacetime = SchwarzschildSpacetimeSphericalCoordinates(M=1.0)\n",
    "camera = ImagePlane(distance = 200.0,\n",
    "                         observer_inclination_in_degrees = 5,\n",
    "                         horizontal_side = 20.0,\n",
    "                         vertical_side = 20.0,\n",
    "                         horizontal_number_of_pixels = 50,\n",
    "                         vertical_number_of_pixels = 50)\n",
    "model = NovikovThorneDisk(inner_radius=6.0, outer_radius=18.0)\n",
    "configurations = VacuumOTEConfigurations(spacetime=spacetime,\n",
    "                                   camera = camera,\n",
    "                                   radiative_model = model,\n",
    "                                   unit_mass_in_solar_masses=1.0)\n",
    "initial_data = initialize(configurations)\n",
    "cb, cbp = callback_setup(configurations; rhorizon_bound=2e-1) #... or, define your own cb and cbp\n",
    "run = integrate(initial_data, configurations, cb, cbp; method=VCABM(), reltol=1e-5, abstol=1e-5)\n",
    "output_data = run.output_data"
   ]
  },
  {
   "cell_type": "code",
   "execution_count": 70,
   "metadata": {},
   "outputs": [
    {
     "name": "stdout",
     "output_type": "stream",
     "text": [
      "  0.149714 seconds (230.40 k allocations: 26.587 MiB)\n"
     ]
    },
    {
     "name": "stdout",
     "output_type": "stream",
     "text": [
      "  0.005891 seconds (1.84 k allocations: 5.663 MiB)\n"
     ]
    }
   ],
   "source": [
    "#N=600 chunks 2\n",
    "@time observed_bolometric_intensities(initial_data, output_data, configurations, camera)\n",
    "@time observed_bolometric_intensities_multithreading(initial_data, output_data, configurations, camera; chunks_per_thread=2)\n",
    "nothing"
   ]
  },
  {
   "cell_type": "code",
   "execution_count": 76,
   "metadata": {},
   "outputs": [
    {
     "name": "stdout",
     "output_type": "stream",
     "text": [
      "  0.142022 seconds (230.40 k allocations: 26.587 MiB, 11.36% gc time)\n",
      "  0.000313 seconds (26 allocations: 5.496 MiB)\n"
     ]
    }
   ],
   "source": [
    "#N=600 chunks 1\n",
    "@time observed_bolometric_intensities(initial_data, output_data, configurations, camera)\n",
    "@time observed_bolometric_intensities_multithreading(initial_data, output_data, configurations, camera; chunks_per_thread=1)\n",
    "nothing"
   ]
  },
  {
   "cell_type": "code",
   "execution_count": 77,
   "metadata": {},
   "outputs": [
    {
     "name": "stdout",
     "output_type": "stream",
     "text": [
      "  0.140230 seconds (230.40 k allocations: 26.587 MiB)\n",
      "  0.003948 seconds (66 allocations: 5.501 MiB)\n"
     ]
    }
   ],
   "source": [
    "#N=600 chunks 3\n",
    "@time observed_bolometric_intensities(initial_data, output_data, configurations, camera)\n",
    "@time observed_bolometric_intensities_multithreading(initial_data, output_data, configurations, camera; chunks_per_thread=3)\n",
    "nothing"
   ]
  },
  {
   "cell_type": "code",
   "execution_count": null,
   "metadata": {},
   "outputs": [
    {
     "name": "stdout",
     "output_type": "stream",
     "text": [
      "  0.007765 seconds (14.12 k allocations: 1.903 MiB)\n"
     ]
    },
    {
     "name": "stdout",
     "output_type": "stream",
     "text": [
      "  0.000476 seconds (46 allocations: 630.484 KiB)\n"
     ]
    }
   ],
   "source": [
    "#N=200 chunks 2\n",
    "@time observed_bolometric_intensities(initial_data, output_data, configurations, camera)\n",
    "@time observed_bolometric_intensities_multithreading(initial_data, output_data, configurations, camera; chunks_per_thread=2)\n",
    "nothing"
   ]
  },
  {
   "cell_type": "code",
   "execution_count": null,
   "metadata": {},
   "outputs": [
    {
     "name": "stdout",
     "output_type": "stream",
     "text": [
      "  0.005976 seconds (14.12 k allocations: 1.903 MiB)\n",
      "  0.000077 seconds (36 allocations: 629.047 KiB)\n"
     ]
    }
   ],
   "source": [
    "#N=200 chunks 1\n",
    "@time observed_bolometric_intensities(initial_data, output_data, configurations, camera)\n",
    "@time observed_bolometric_intensities_multithreading(initial_data, output_data, configurations, camera; chunks_per_thread=1)\n",
    "nothing"
   ]
  },
  {
   "cell_type": "code",
   "execution_count": null,
   "metadata": {},
   "outputs": [
    {
     "name": "stdout",
     "output_type": "stream",
     "text": [
      "  0.008128 seconds (14.12 k allocations: 1.903 MiB)\n",
      "  0.000282 seconds (71 allocations: 633.812 KiB)\n"
     ]
    }
   ],
   "source": [
    "#N=200 chunks 3\n",
    "@time observed_bolometric_intensities(initial_data, output_data, configurations, camera)\n",
    "@time observed_bolometric_intensities_multithreading(initial_data, output_data, configurations, camera; chunks_per_thread=3)\n",
    "nothing"
   ]
  },
  {
   "cell_type": "code",
   "execution_count": null,
   "metadata": {},
   "outputs": [
    {
     "name": "stdout",
     "output_type": "stream",
     "text": [
      "  316.410 μs (905 allocations: 123.83 KiB)\n"
     ]
    },
    {
     "name": "stdout",
     "output_type": "stream",
     "text": [
      "  7.151 μs (50 allocations: 45.25 KiB)\n"
     ]
    }
   ],
   "source": [
    "#N=50 chunks 2\n",
    "@btime observed_bolometric_intensities($initial_data, $output_data, $configurations, $camera)\n",
    "@btime observed_bolometric_intensities_multithreading($initial_data, $output_data, $configurations, $camera; chunks_per_thread=2)\n",
    "nothing"
   ]
  },
  {
   "cell_type": "code",
   "execution_count": 16,
   "metadata": {},
   "outputs": [
    {
     "name": "stdout",
     "output_type": "stream",
     "text": [
      "  316.190 μs (905 allocations: 123.83 KiB)\n"
     ]
    },
    {
     "name": "stdout",
     "output_type": "stream",
     "text": [
      "  12.428 μs (70 allocations: 47.91 KiB)\n"
     ]
    }
   ],
   "source": [
    "#N=50 chunks 3\n",
    "@btime observed_bolometric_intensities($initial_data, $output_data, $configurations, $camera)\n",
    "@btime observed_bolometric_intensities_multithreading($initial_data, $output_data, $configurations, $camera; chunks_per_thread=3)\n",
    "nothing"
   ]
  },
  {
   "cell_type": "code",
   "execution_count": 15,
   "metadata": {},
   "outputs": [
    {
     "name": "stdout",
     "output_type": "stream",
     "text": [
      "  316.049 μs (905 allocations: 123.83 KiB)\n"
     ]
    },
    {
     "name": "stdout",
     "output_type": "stream",
     "text": [
      "  5.442 μs (25 allocations: 41.92 KiB)\n"
     ]
    }
   ],
   "source": [
    "#N=50 chunks 1\n",
    "@btime observed_bolometric_intensities($initial_data, $output_data, $configurations, $camera)\n",
    "@btime observed_bolometric_intensities_multithreading($initial_data, $output_data, $configurations, $camera; chunks_per_thread=1)\n",
    "nothing"
   ]
  },
  {
   "cell_type": "code",
   "execution_count": null,
   "metadata": {},
   "outputs": [
    {
     "name": "stdout",
     "output_type": "stream",
     "text": [
      "  12.362 μs (41 allocations: 5.55 KiB)\n"
     ]
    },
    {
     "name": "stdout",
     "output_type": "stream",
     "text": [
      "  4.822 μs (48 allocations: 7.78 KiB)\n"
     ]
    }
   ],
   "source": [
    "#N=10 chunks 2\n",
    "@btime observed_bolometric_intensities($initial_data, $output_data, $configurations, $camera)\n",
    "@btime observed_bolometric_intensities_multithreading($initial_data, $output_data, $configurations, $camera; chunks_per_thread=2)\n",
    "nothing"
   ]
  },
  {
   "cell_type": "code",
   "execution_count": null,
   "metadata": {},
   "outputs": [
    {
     "name": "stdout",
     "output_type": "stream",
     "text": [
      "  975.571 ns (9 allocations: 1.05 KiB)\n"
     ]
    },
    {
     "name": "stdout",
     "output_type": "stream",
     "text": [
      "  2.845 μs (48 allocations: 6.28 KiB)\n"
     ]
    }
   ],
   "source": [
    "#N=3\n",
    "@btime observed_bolometric_intensities($initial_data, $output_data, $configurations, $camera)\n",
    "@btime observed_bolometric_intensities_multithreading($initial_data, $output_data, $configurations, $camera; chunks_per_thread=2)\n",
    "nothing"
   ]
  }
 ],
 "metadata": {
  "kernelspec": {
   "display_name": "Julia 1.9.0",
   "language": "julia",
   "name": "julia-1.9"
  },
  "language_info": {
   "file_extension": ".jl",
   "mimetype": "application/julia",
   "name": "julia",
   "version": "1.9.0"
  },
  "orig_nbformat": 4
 },
 "nbformat": 4,
 "nbformat_minor": 2
}
