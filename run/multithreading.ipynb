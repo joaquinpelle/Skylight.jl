{
 "cells": [
  {
   "cell_type": "code",
   "execution_count": 1,
   "metadata": {},
   "outputs": [
    {
     "name": "stderr",
     "output_type": "stream",
     "text": [
      "\u001b[32m\u001b[1m  Activating\u001b[22m\u001b[39m project at `~/repos/Skylight.jl/run/Dev`\n"
     ]
    }
   ],
   "source": [
    "using Pkg\n",
    "Pkg.activate(\"Dev\")\n",
    "using Skylight\n",
    "using BenchmarkTools"
   ]
  },
  {
   "cell_type": "code",
   "execution_count": 11,
   "metadata": {},
   "outputs": [
    {
     "name": "stdout",
     "output_type": "stream",
     "text": [
      "compile funcs\n"
     ]
    },
    {
     "name": "stdout",
     "output_type": "stream",
     "text": [
      "Equations integration stats:\n",
      "Wall clock time: 0.001534181 seconds\n",
      "Memory allocated: 323.258 KiB\n",
      "Serial\n",
      "  0.000010 seconds (11 allocations: 1.234 KiB)\n",
      "Multithread\n",
      "  0.000071 seconds (114 allocations: 13.266 KiB)\n"
     ]
    }
   ],
   "source": [
    "function time_intensities(; N, chunks_per_thread)\n",
    "    spacetime = SchwarzschildSpacetimeSphericalCoordinates(M=1.0)\n",
    "    camera = ImagePlane(distance = 200.0,\n",
    "                            observer_inclination_in_degrees = 5,\n",
    "                            horizontal_side = 20.0,\n",
    "                            vertical_side = 20.0,\n",
    "                            horizontal_number_of_pixels = N,\n",
    "                            vertical_number_of_pixels = N)\n",
    "    model = NovikovThorneDisk(inner_radius=6.0, outer_radius=18.0)\n",
    "    configurations = VacuumOTEConfigurations(spacetime=spacetime,\n",
    "                                    camera = camera,\n",
    "                                    radiative_model = model,\n",
    "                                    unit_mass_in_solar_masses=1.0)\n",
    "    initial_data = initialize(configurations)\n",
    "    cb, cbp = callback_setup(configurations; rhorizon_bound=2e-1) #... or, define your own cb and cbp\n",
    "    run = integrate(initial_data, configurations, cb, cbp; method=VCABM(), reltol=1e-5, abstol=1e-5)\n",
    "    output_data = run.output_data\n",
    "    println(\"Serial\")\n",
    "    @time _ = Skylight.observed_bolometric_intensities_serial(initial_data, output_data, configurations, camera)\n",
    "    println(\"Multithread\")\n",
    "    @time _ = observed_bolometric_intensities(initial_data, output_data, configurations, camera; chunks_per_thread=chunks_per_thread)\n",
    "    return nothing\n",
    "end\n",
    "println(\"compile funcs\")\n",
    "time_intensities(N=3, chunks_per_thread=2)"
   ]
  },
  {
   "cell_type": "code",
   "execution_count": 14,
   "metadata": {},
   "outputs": [
    {
     "name": "stdout",
     "output_type": "stream",
     "text": [
      "compile funcs\n",
      "Equations integration stats:\n",
      "Wall clock time: 0.001407017 seconds\n",
      "Memory allocated: 320.062 KiB\n",
      "Serial\n",
      "  0.000007 seconds (11 allocations: 1.234 KiB)\n",
      "Multithread\n",
      "  0.001697 seconds (119 allocations: 13.125 KiB)\n"
     ]
    }
   ],
   "source": [
    "function btime_intensities(; N, chunks_per_thread)\n",
    "    spacetime = SchwarzschildSpacetimeSphericalCoordinates(M=1.0)\n",
    "    camera = ImagePlane(distance = 200.0,\n",
    "                            observer_inclination_in_degrees = 5,\n",
    "                            horizontal_side = 20.0,\n",
    "                            vertical_side = 20.0,\n",
    "                            horizontal_number_of_pixels = N,\n",
    "                            vertical_number_of_pixels = N)\n",
    "    model = NovikovThorneDisk(inner_radius=6.0, outer_radius=18.0)\n",
    "    configurations = VacuumOTEConfigurations(spacetime=spacetime,\n",
    "                                    camera = camera,\n",
    "                                    radiative_model = model,\n",
    "                                    unit_mass_in_solar_masses=1.0)\n",
    "    initial_data = initialize(configurations)\n",
    "    cb, cbp = callback_setup(configurations; rhorizon_bound=2e-1) #... or, define your own cb and cbp\n",
    "    run = integrate(initial_data, configurations, cb, cbp; method=VCABM(), reltol=1e-5, abstol=1e-5)\n",
    "    output_data = run.output_data\n",
    "    println(\"Serial\")\n",
    "    @btime _ = Skylight.observed_bolometric_intensities_serial($initial_data, $output_data, $configurations, $camera)\n",
    "    println(\"Multithread\")\n",
    "    @btime _ = observed_bolometric_intensities($initial_data, $output_data, $configurations, $camera; chunks_per_thread = $chunks_per_thread)\n",
    "    return nothing\n",
    "end\n",
    "println(\"compile funcs\")\n",
    "time_intensities(N=3, chunks_per_thread=2)"
   ]
  },
  {
   "cell_type": "code",
   "execution_count": 15,
   "metadata": {},
   "outputs": [
    {
     "name": "stdout",
     "output_type": "stream",
     "text": [
      "Equations integration stats:\n",
      "Wall clock time: 0.002705067 seconds\n",
      "Memory allocated: 318.938 KiB\n",
      "Serial\n",
      "  0.000005 seconds (11 allocations: 1.234 KiB)\n",
      "Multithread\n",
      "  0.000052 seconds (112 allocations: 12.906 KiB)\n"
     ]
    }
   ],
   "source": [
    "time_intensities(N=3, chunks_per_thread=2)"
   ]
  },
  {
   "cell_type": "code",
   "execution_count": 16,
   "metadata": {},
   "outputs": [
    {
     "name": "stdout",
     "output_type": "stream",
     "text": [
      "Equations integration stats:\n",
      "Wall clock time: 0.000822085 seconds\n",
      "Memory allocated: 319.062 KiB\n",
      "Serial\n",
      "  "
     ]
    },
    {
     "name": "stdout",
     "output_type": "stream",
     "text": [
      "1.435 μs (11 allocations: 1.23 KiB)\n",
      "Multithread\n"
     ]
    },
    {
     "name": "stdout",
     "output_type": "stream",
     "text": [
      "  7.684 μs (110 allocations: 12.84 KiB)\n"
     ]
    }
   ],
   "source": [
    "btime_intensities(N=3, chunks_per_thread=2)"
   ]
  },
  {
   "cell_type": "code",
   "execution_count": 18,
   "metadata": {},
   "outputs": [
    {
     "name": "stdout",
     "output_type": "stream",
     "text": [
      "Equations integration stats:\n",
      "Wall clock time: 0.018777604 seconds\n",
      "Memory allocated: 3.066 MiB\n",
      "Serial\n",
      "  "
     ]
    },
    {
     "name": "stdout",
     "output_type": "stream",
     "text": [
      "19.911 μs (73 allocations: 8.55 KiB)\n",
      "Multithread\n"
     ]
    },
    {
     "name": "stdout",
     "output_type": "stream",
     "text": [
      "  17.910 μs (172 allocations: 20.16 KiB)\n"
     ]
    }
   ],
   "source": [
    "btime_intensities(N=10, chunks_per_thread=2)"
   ]
  },
  {
   "cell_type": "code",
   "execution_count": 20,
   "metadata": {},
   "outputs": [
    {
     "name": "stdout",
     "output_type": "stream",
     "text": [
      "Equations integration stats:\n",
      "Wall clock time: 0.239531949 seconds\n",
      "Memory allocated: 78.439 MiB\n",
      "Serial\n",
      "  "
     ]
    },
    {
     "name": "stdout",
     "output_type": "stream",
     "text": [
      "477.916 μs (1601 allocations: 189.08 KiB)\n",
      "Multithread\n"
     ]
    },
    {
     "name": "stdout",
     "output_type": "stream",
     "text": [
      "  272.402 μs (1700 allocations: 200.69 KiB)\n"
     ]
    }
   ],
   "source": [
    "btime_intensities(N=50, chunks_per_thread=2)"
   ]
  },
  {
   "cell_type": "code",
   "execution_count": 21,
   "metadata": {},
   "outputs": [
    {
     "name": "stdout",
     "output_type": "stream",
     "text": [
      "Equations integration stats:\n",
      "Wall clock time: 0.362930422 seconds\n",
      "Memory allocated: 78.439 MiB\n",
      "Serial\n",
      "  "
     ]
    },
    {
     "name": "stdout",
     "output_type": "stream",
     "text": [
      "478.374 μs (1601 allocations: 189.08 KiB)\n",
      "Multithread\n"
     ]
    },
    {
     "name": "stdout",
     "output_type": "stream",
     "text": [
      "  262.258 μs (1649 allocations: 194.06 KiB)\n"
     ]
    }
   ],
   "source": [
    "btime_intensities(N=50, chunks_per_thread=1) "
   ]
  },
  {
   "cell_type": "code",
   "execution_count": 23,
   "metadata": {},
   "outputs": [
    {
     "name": "stdout",
     "output_type": "stream",
     "text": [
      "Equations integration stats:\n",
      "Wall clock time: 0.905665721 seconds\n",
      "Memory allocated: 311.537 MiB\n",
      "Serial\n",
      "  "
     ]
    },
    {
     "name": "stdout",
     "output_type": "stream",
     "text": [
      "1.937 ms (6423 allocations: 758.27 KiB)\n",
      "Multithread\n"
     ]
    },
    {
     "name": "stdout",
     "output_type": "stream",
     "text": [
      "  985.560 μs (6512 allocations: 768.31 KiB)\n"
     ]
    }
   ],
   "source": [
    "btime_intensities(N=100, chunks_per_thread=2) "
   ]
  },
  {
   "cell_type": "code",
   "execution_count": 24,
   "metadata": {},
   "outputs": [
    {
     "name": "stdout",
     "output_type": "stream",
     "text": [
      "Equations integration stats:\n",
      "Wall clock time: 31.703497095 seconds\n",
      "Memory allocated: 10.995 GiB\n",
      "Serial\n",
      "  0.100310 seconds (230.40 k allocations: 26.587 MiB)"
     ]
    },
    {
     "name": "stdout",
     "output_type": "stream",
     "text": [
      "\n",
      "Multithread\n",
      "  0.061184 seconds (230.49 k allocations: 26.597 MiB)\n"
     ]
    }
   ],
   "source": [
    "time_intensities(N=600, chunks_per_thread=2) "
   ]
  },
  {
   "cell_type": "code",
   "execution_count": 25,
   "metadata": {},
   "outputs": [
    {
     "name": "stdout",
     "output_type": "stream",
     "text": [
      "Equations integration stats:\n",
      "Wall clock time: 84.784255883 seconds\n",
      "Memory allocated: 30.552 GiB\n",
      "Serial\n",
      "  0.315176 seconds (639.83 k allocations: 73.837 MiB, 9.91% gc time)"
     ]
    },
    {
     "name": "stdout",
     "output_type": "stream",
     "text": [
      "\n",
      "Multithread\n"
     ]
    },
    {
     "name": "stdout",
     "output_type": "stream",
     "text": [
      "  0.219343 seconds (639.98 k allocations: 73.851 MiB, 4.64% gc time)\n"
     ]
    }
   ],
   "source": [
    "time_intensities(N=1000, chunks_per_thread=2)"
   ]
  }
 ],
 "metadata": {
  "kernelspec": {
   "display_name": "Julia 1.9.0",
   "language": "julia",
   "name": "julia-1.9"
  },
  "language_info": {
   "file_extension": ".jl",
   "mimetype": "application/julia",
   "name": "julia",
   "version": "1.9.0"
  },
  "orig_nbformat": 4
 },
 "nbformat": 4,
 "nbformat_minor": 2
}
